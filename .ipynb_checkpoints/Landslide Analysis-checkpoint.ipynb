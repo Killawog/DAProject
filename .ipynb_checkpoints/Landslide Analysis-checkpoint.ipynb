{
 "cells": [
  {
   "cell_type": "code",
   "execution_count": 24,
   "metadata": {},
   "outputs": [],
   "source": [
    "import numpy as np \n",
    "import pandas as pd\n",
    "import seaborn as sns\n",
    "import matplotlib.pyplot as plt\n",
    "\n",
    "import os"
   ]
  },
  {
   "cell_type": "code",
   "execution_count": 25,
   "metadata": {},
   "outputs": [],
   "source": [
    "df = pd.read_csv('/Users/seren/OneDrive/Documents/GitHub/DAProject/catalog.csv')"
   ]
  },
  {
   "cell_type": "code",
   "execution_count": 26,
   "metadata": {},
   "outputs": [
    {
     "data": {
      "text/plain": [
       "Index(['id', 'date', 'time', 'continent_code', 'country_name', 'country_code',\n",
       "       'state/province', 'population', 'city/town', 'distance',\n",
       "       'location_description', 'latitude', 'longitude', 'geolocation',\n",
       "       'hazard_type', 'landslide_type', 'landslide_size', 'trigger',\n",
       "       'storm_name', 'injuries', 'fatalities', 'source_name', 'source_link'],\n",
       "      dtype='object')"
      ]
     },
     "execution_count": 26,
     "metadata": {},
     "output_type": "execute_result"
    }
   ],
   "source": [
    "df.columns"
   ]
  },
  {
   "cell_type": "markdown",
   "metadata": {},
   "source": [
    "# Data Cleaning"
   ]
  },
  {
   "cell_type": "markdown",
   "metadata": {},
   "source": [
    "### Heatmap to detect null values"
   ]
  },
  {
   "cell_type": "code",
   "execution_count": 27,
   "metadata": {},
   "outputs": [
    {
     "name": "stdout",
     "output_type": "stream",
     "text": [
      "id                      1693\n",
      "date                     922\n",
      "time                     159\n",
      "continent_code             1\n",
      "country_name              28\n",
      "country_code              28\n",
      "state/province           226\n",
      "population              1000\n",
      "city/town               1034\n",
      "distance                1675\n",
      "location_description      12\n",
      "latitude                1665\n",
      "longitude               1665\n",
      "geolocation             1678\n",
      "hazard_type                1\n",
      "landslide_type            14\n",
      "landslide_size             7\n",
      "trigger                   16\n",
      "storm_name                49\n",
      "injuries                  15\n",
      "fatalities                36\n",
      "source_name              552\n",
      "source_link             1325\n",
      "dtype: int64\n"
     ]
    },
    {
     "data": {
      "image/png": "[encoded data removed]",
      "text/plain": [
       "<Figure size 432x288 with 3 Axes>"
      ]
     },
     "metadata": {
      "needs_background": "light"
     },
     "output_type": "display_data"
    }
   ],
   "source": [
    "sns.heatmap(df.isnull())\n",
    "print(df.nunique(axis=0));\n",
    "plt.title(\"Missing values for each column\")\n",
    "sns.heatmap(df.isnull())\n",
    "plt.show()"
   ]
  },
  {
   "cell_type": "code",
   "execution_count": 28,
   "metadata": {},
   "outputs": [],
   "source": [
    "# Drop continent code\n",
    "df.drop(['continent_code'], axis=1, inplace=True)"
   ]
  },
  {
   "cell_type": "code",
   "execution_count": 29,
   "metadata": {},
   "outputs": [
    {
     "data": {
      "text/plain": [
       "<bound method NDFrame.head of         id     date   time   country_name country_code  state/province  \\\n",
       "0       34   3/2/07  Night  United States           US        Virginia   \n",
       "1       42  3/22/07    NaN  United States           US            Ohio   \n",
       "2       56   4/6/07    NaN  United States           US    Pennsylvania   \n",
       "3       59  4/14/07    NaN         Canada           CA          Quebec   \n",
       "4       61  4/15/07    NaN  United States           US        Kentucky   \n",
       "...    ...      ...    ...            ...          ...             ...   \n",
       "1688  7535  12/7/15    NaN  United States           US  North Carolina   \n",
       "1689  7537  2/22/16   0:00  United States           US   West Virginia   \n",
       "1690  7539  2/23/16    NaN  United States           US   West Virginia   \n",
       "1691  7540  2/26/16  21:06  United States           US   West Virginia   \n",
       "1692  7541   3/2/16   8:00  United States           US         Vermont   \n",
       "\n",
       "      population         city/town  distance location_description  ...  \\\n",
       "0          16000       Cherry Hill   3.40765              Unknown  ...   \n",
       "1          17288  New Philadelphia   3.33522                  NaN  ...   \n",
       "2          15930       Wilkinsburg   2.91977           Urban area  ...   \n",
       "3          42786       Châteauguay   2.98682          Above river  ...   \n",
       "4           6903         Pikeville   5.66542           Below road  ...   \n",
       "...          ...               ...       ...                  ...  ...   \n",
       "1688        1646             Tryon   7.80866           Above road  ...   \n",
       "1689       51400        Charleston   6.84721        Natural slope  ...   \n",
       "1690        2406             Welch  14.19735           Above road  ...   \n",
       "1691        1048            Athens  12.00678           Above road  ...   \n",
       "1692        2066           Windsor   1.78429           Above road  ...   \n",
       "\n",
       "                                    geolocation  hazard_type  \\\n",
       "0     (38.600900000000003, -77.268199999999993)    Landslide   \n",
       "1     (40.517499999999998, -81.430499999999995)    Landslide   \n",
       "2                (40.4377, -79.915999999999997)    Landslide   \n",
       "3     (45.322600000000001, -73.777100000000004)    Landslide   \n",
       "4     (37.432499999999997, -82.493099999999998)    Landslide   \n",
       "...                                         ...          ...   \n",
       "1688  (35.221899999999998, -82.322599999999994)    Landslide   \n",
       "1689  (38.398699999999998, -81.584800000000001)    Landslide   \n",
       "1690             (37.409599999999998, -81.4268)    Landslide   \n",
       "1691  (37.501100000000001, -81.109300000000005)    Landslide   \n",
       "1692             (43.4771, -72.406599999999997)    Landslide   \n",
       "\n",
       "          landslide_type landslide_size   trigger storm_name injuries  \\\n",
       "0              Landslide          Small      Rain        NaN      NaN   \n",
       "1              Landslide          Small      Rain        NaN      NaN   \n",
       "2              Landslide          Small      Rain        NaN      NaN   \n",
       "3     Riverbank collapse          Small      Rain        NaN      NaN   \n",
       "4              Landslide          Small  Downpour        NaN      NaN   \n",
       "...                  ...            ...       ...        ...      ...   \n",
       "1688            Rockfall          Small   Unknown        NaN      0.0   \n",
       "1689            Mudslide          Small   Unknown        NaN      0.0   \n",
       "1690           Landslide          Small      Rain        NaN      0.0   \n",
       "1691            Rockfall          Small   Unknown        NaN      0.0   \n",
       "1692            Rockfall          Small   Unknown        NaN      0.0   \n",
       "\n",
       "     fatalities                 source_name  \\\n",
       "0           NaN                  NBC 4 news   \n",
       "1           NaN              Canton Rep.com   \n",
       "2           NaN  The Pittsburgh Channel.com   \n",
       "3           NaN                   Le Soleil   \n",
       "4           0.0      Matthew Crawford (KGS)   \n",
       "...         ...                         ...   \n",
       "1688        0.0        Tryon Daily Bulletin   \n",
       "1689        0.0          Charleston Gazette   \n",
       "1690        0.0   Bluefield Daily Telegraph   \n",
       "1691        0.0   Bluefield Daily Telegraph   \n",
       "1692        0.0                 Valley News   \n",
       "\n",
       "                                            source_link  \n",
       "0         http://www.nbc4.com/news/11186871/detail.html  \n",
       "1     http://www.cantonrep.com/index.php?ID=345054&C...  \n",
       "2     https://web.archive.org/web/20080423132842/htt...  \n",
       "3     http://www.hebdos.net/lsc/edition162007/articl...  \n",
       "4                                                   NaN  \n",
       "...                                                 ...  \n",
       "1688  http://www.tryondailybulletin.com/2016/02/26/u...  \n",
       "1689  http://www.wvgazettemail.com/news/20160222/us-...  \n",
       "1690  http://www.bdtonline.com/news/officials-cautio...  \n",
       "1691  http://www.bdtonline.com/news/rockslide-snarls...  \n",
       "1692  http://www.vnews.com/home/21353539-95/loose-ledge  \n",
       "\n",
       "[1693 rows x 22 columns]>"
      ]
     },
     "execution_count": 29,
     "metadata": {},
     "output_type": "execute_result"
    }
   ],
   "source": [
    "# Cleaning trigger column\n",
    "df.trigger.replace(['unknown'],'Unknown', inplace=True)\n",
    "df.trigger.replace(['Other'],'Unknown', inplace=True)\n",
    "df.trigger.replace(['downpour'],'Downpour', inplace=True)\n",
    "df.trigger = df.trigger.fillna('Unknown')\n",
    "df.head"
   ]
  },
  {
   "cell_type": "code",
   "execution_count": 30,
   "metadata": {},
   "outputs": [],
   "source": [
    "# Cleaning location description column\n",
    "df.location_description.replace(['Other'],'Unknown', inplace=True)\n",
    "df.location_description = df.location_description.fillna('Unknown')"
   ]
  },
  {
   "cell_type": "code",
   "execution_count": 31,
   "metadata": {},
   "outputs": [],
   "source": [
    "# Cleaning time column\n",
    "df.time.replace(['evening'],'Evening', inplace=True)\n",
    "df.time = df.time.fillna('Unknown')"
   ]
  },
  {
   "cell_type": "code",
   "execution_count": 32,
   "metadata": {},
   "outputs": [],
   "source": [
    "# Cleaning landslide type column\n",
    "df.landslide_type.replace(['landslide'],'Landslide', inplace=True)\n",
    "df.landslide_type.replace(['mudslide'],'Mudslide', inplace=True)\n",
    "df.landslide_type.replace(['Unknown'],'Other', inplace=True)\n",
    "df.landslide_type = df.landslide_type.fillna('Other')"
   ]
  },
  {
   "cell_type": "code",
   "execution_count": 33,
   "metadata": {},
   "outputs": [],
   "source": [
    "# Cleaning landslide size column\n",
    "df.landslide_size.replace(['large'],'Large', inplace=True)\n",
    "df.landslide_type.replace(['medium'],'Medium', inplace=True)\n",
    "df.landslide_type.replace(['small'],'Small', inplace=True)"
   ]
  },
  {
   "cell_type": "code",
   "execution_count": 34,
   "metadata": {},
   "outputs": [],
   "source": [
    "# Cleaning source name and source type type column\n",
    "df.source_name = df.source_name.fillna('Unknown')\n",
    "df.source_link = df.source_link.fillna('Unknown')"
   ]
  },
  {
   "cell_type": "code",
   "execution_count": 35,
   "metadata": {},
   "outputs": [
    {
     "name": "stdout",
     "output_type": "stream",
     "text": [
      "<class 'pandas.core.frame.DataFrame'>\n",
      "RangeIndex: 1693 entries, 0 to 1692\n",
      "Data columns (total 22 columns):\n",
      " #   Column                Non-Null Count  Dtype  \n",
      "---  ------                --------------  -----  \n",
      " 0   id                    1693 non-null   int64  \n",
      " 1   date                  1690 non-null   object \n",
      " 2   time                  1693 non-null   object \n",
      " 3   country_name          1693 non-null   object \n",
      " 4   country_code          1693 non-null   object \n",
      " 5   state/province        1692 non-null   object \n",
      " 6   population            1693 non-null   int64  \n",
      " 7   city/town             1689 non-null   object \n",
      " 8   distance              1692 non-null   float64\n",
      " 9   location_description  1693 non-null   object \n",
      " 10  latitude              1692 non-null   float64\n",
      " 11  longitude             1692 non-null   float64\n",
      " 12  geolocation           1692 non-null   object \n",
      " 13  hazard_type           1693 non-null   object \n",
      " 14  landslide_type        1693 non-null   object \n",
      " 15  landslide_size        1692 non-null   object \n",
      " 16  trigger               1693 non-null   object \n",
      " 17  storm_name            132 non-null    object \n",
      " 18  injuries              515 non-null    float64\n",
      " 19  fatalities            1446 non-null   float64\n",
      " 20  source_name           1693 non-null   object \n",
      " 21  source_link           1693 non-null   object \n",
      "dtypes: float64(5), int64(2), object(15)\n",
      "memory usage: 291.1+ KB\n"
     ]
    },
    {
     "data": {
      "text/html": [
       "<div>\n",
       "<style scoped>\n",
       "    .dataframe tbody tr th:only-of-type {\n",
       "        vertical-align: middle;\n",
       "    }\n",
       "\n",
       "    .dataframe tbody tr th {\n",
       "        vertical-align: top;\n",
       "    }\n",
       "\n",
       "    .dataframe thead th {\n",
       "        text-align: right;\n",
       "    }\n",
       "</style>\n",
       "<table border=\"1\" class=\"dataframe\">\n",
       "  <thead>\n",
       "    <tr style=\"text-align: right;\">\n",
       "      <th></th>\n",
       "      <th>id</th>\n",
       "      <th>date</th>\n",
       "      <th>time</th>\n",
       "      <th>country_name</th>\n",
       "      <th>country_code</th>\n",
       "      <th>state/province</th>\n",
       "      <th>population</th>\n",
       "      <th>city/town</th>\n",
       "      <th>distance</th>\n",
       "      <th>location_description</th>\n",
       "      <th>...</th>\n",
       "      <th>geolocation</th>\n",
       "      <th>hazard_type</th>\n",
       "      <th>landslide_type</th>\n",
       "      <th>landslide_size</th>\n",
       "      <th>trigger</th>\n",
       "      <th>storm_name</th>\n",
       "      <th>injuries</th>\n",
       "      <th>fatalities</th>\n",
       "      <th>source_name</th>\n",
       "      <th>source_link</th>\n",
       "    </tr>\n",
       "  </thead>\n",
       "  <tbody>\n",
       "    <tr>\n",
       "      <th>0</th>\n",
       "      <td>34</td>\n",
       "      <td>3/2/07</td>\n",
       "      <td>Night</td>\n",
       "      <td>United States</td>\n",
       "      <td>US</td>\n",
       "      <td>Virginia</td>\n",
       "      <td>16000</td>\n",
       "      <td>Cherry Hill</td>\n",
       "      <td>3.40765</td>\n",
       "      <td>Unknown</td>\n",
       "      <td>...</td>\n",
       "      <td>(38.600900000000003, -77.268199999999993)</td>\n",
       "      <td>Landslide</td>\n",
       "      <td>Landslide</td>\n",
       "      <td>Small</td>\n",
       "      <td>Rain</td>\n",
       "      <td>NaN</td>\n",
       "      <td>NaN</td>\n",
       "      <td>NaN</td>\n",
       "      <td>NBC 4 news</td>\n",
       "      <td>http://www.nbc4.com/news/11186871/detail.html</td>\n",
       "    </tr>\n",
       "    <tr>\n",
       "      <th>1</th>\n",
       "      <td>42</td>\n",
       "      <td>3/22/07</td>\n",
       "      <td>Unknown</td>\n",
       "      <td>United States</td>\n",
       "      <td>US</td>\n",
       "      <td>Ohio</td>\n",
       "      <td>17288</td>\n",
       "      <td>New Philadelphia</td>\n",
       "      <td>3.33522</td>\n",
       "      <td>Unknown</td>\n",
       "      <td>...</td>\n",
       "      <td>(40.517499999999998, -81.430499999999995)</td>\n",
       "      <td>Landslide</td>\n",
       "      <td>Landslide</td>\n",
       "      <td>Small</td>\n",
       "      <td>Rain</td>\n",
       "      <td>NaN</td>\n",
       "      <td>NaN</td>\n",
       "      <td>NaN</td>\n",
       "      <td>Canton Rep.com</td>\n",
       "      <td>http://www.cantonrep.com/index.php?ID=345054&amp;C...</td>\n",
       "    </tr>\n",
       "    <tr>\n",
       "      <th>2</th>\n",
       "      <td>56</td>\n",
       "      <td>4/6/07</td>\n",
       "      <td>Unknown</td>\n",
       "      <td>United States</td>\n",
       "      <td>US</td>\n",
       "      <td>Pennsylvania</td>\n",
       "      <td>15930</td>\n",
       "      <td>Wilkinsburg</td>\n",
       "      <td>2.91977</td>\n",
       "      <td>Urban area</td>\n",
       "      <td>...</td>\n",
       "      <td>(40.4377, -79.915999999999997)</td>\n",
       "      <td>Landslide</td>\n",
       "      <td>Landslide</td>\n",
       "      <td>Small</td>\n",
       "      <td>Rain</td>\n",
       "      <td>NaN</td>\n",
       "      <td>NaN</td>\n",
       "      <td>NaN</td>\n",
       "      <td>The Pittsburgh Channel.com</td>\n",
       "      <td>https://web.archive.org/web/20080423132842/htt...</td>\n",
       "    </tr>\n",
       "    <tr>\n",
       "      <th>3</th>\n",
       "      <td>59</td>\n",
       "      <td>4/14/07</td>\n",
       "      <td>Unknown</td>\n",
       "      <td>Canada</td>\n",
       "      <td>CA</td>\n",
       "      <td>Quebec</td>\n",
       "      <td>42786</td>\n",
       "      <td>Châteauguay</td>\n",
       "      <td>2.98682</td>\n",
       "      <td>Above river</td>\n",
       "      <td>...</td>\n",
       "      <td>(45.322600000000001, -73.777100000000004)</td>\n",
       "      <td>Landslide</td>\n",
       "      <td>Riverbank collapse</td>\n",
       "      <td>Small</td>\n",
       "      <td>Rain</td>\n",
       "      <td>NaN</td>\n",
       "      <td>NaN</td>\n",
       "      <td>NaN</td>\n",
       "      <td>Le Soleil</td>\n",
       "      <td>http://www.hebdos.net/lsc/edition162007/articl...</td>\n",
       "    </tr>\n",
       "    <tr>\n",
       "      <th>4</th>\n",
       "      <td>61</td>\n",
       "      <td>4/15/07</td>\n",
       "      <td>Unknown</td>\n",
       "      <td>United States</td>\n",
       "      <td>US</td>\n",
       "      <td>Kentucky</td>\n",
       "      <td>6903</td>\n",
       "      <td>Pikeville</td>\n",
       "      <td>5.66542</td>\n",
       "      <td>Below road</td>\n",
       "      <td>...</td>\n",
       "      <td>(37.432499999999997, -82.493099999999998)</td>\n",
       "      <td>Landslide</td>\n",
       "      <td>Landslide</td>\n",
       "      <td>Small</td>\n",
       "      <td>Downpour</td>\n",
       "      <td>NaN</td>\n",
       "      <td>NaN</td>\n",
       "      <td>0.0</td>\n",
       "      <td>Matthew Crawford (KGS)</td>\n",
       "      <td>Unknown</td>\n",
       "    </tr>\n",
       "  </tbody>\n",
       "</table>\n",
       "<p>5 rows × 22 columns</p>\n",
       "</div>"
      ],
      "text/plain": [
       "   id     date     time   country_name country_code state/province  \\\n",
       "0  34   3/2/07    Night  United States           US       Virginia   \n",
       "1  42  3/22/07  Unknown  United States           US           Ohio   \n",
       "2  56   4/6/07  Unknown  United States           US   Pennsylvania   \n",
       "3  59  4/14/07  Unknown         Canada           CA         Quebec   \n",
       "4  61  4/15/07  Unknown  United States           US       Kentucky   \n",
       "\n",
       "   population         city/town  distance location_description  ...  \\\n",
       "0       16000       Cherry Hill   3.40765              Unknown  ...   \n",
       "1       17288  New Philadelphia   3.33522              Unknown  ...   \n",
       "2       15930       Wilkinsburg   2.91977           Urban area  ...   \n",
       "3       42786       Châteauguay   2.98682          Above river  ...   \n",
       "4        6903         Pikeville   5.66542           Below road  ...   \n",
       "\n",
       "                                 geolocation  hazard_type      landslide_type  \\\n",
       "0  (38.600900000000003, -77.268199999999993)    Landslide           Landslide   \n",
       "1  (40.517499999999998, -81.430499999999995)    Landslide           Landslide   \n",
       "2             (40.4377, -79.915999999999997)    Landslide           Landslide   \n",
       "3  (45.322600000000001, -73.777100000000004)    Landslide  Riverbank collapse   \n",
       "4  (37.432499999999997, -82.493099999999998)    Landslide           Landslide   \n",
       "\n",
       "  landslide_size   trigger storm_name injuries fatalities  \\\n",
       "0          Small      Rain        NaN      NaN        NaN   \n",
       "1          Small      Rain        NaN      NaN        NaN   \n",
       "2          Small      Rain        NaN      NaN        NaN   \n",
       "3          Small      Rain        NaN      NaN        NaN   \n",
       "4          Small  Downpour        NaN      NaN        0.0   \n",
       "\n",
       "                  source_name  \\\n",
       "0                  NBC 4 news   \n",
       "1              Canton Rep.com   \n",
       "2  The Pittsburgh Channel.com   \n",
       "3                   Le Soleil   \n",
       "4      Matthew Crawford (KGS)   \n",
       "\n",
       "                                         source_link  \n",
       "0      http://www.nbc4.com/news/11186871/detail.html  \n",
       "1  http://www.cantonrep.com/index.php?ID=345054&C...  \n",
       "2  https://web.archive.org/web/20080423132842/htt...  \n",
       "3  http://www.hebdos.net/lsc/edition162007/articl...  \n",
       "4                                            Unknown  \n",
       "\n",
       "[5 rows x 22 columns]"
      ]
     },
     "execution_count": 35,
     "metadata": {},
     "output_type": "execute_result"
    }
   ],
   "source": [
    "df.info()\n",
    "df.head()"
   ]
  },
  {
   "cell_type": "markdown",
   "metadata": {},
   "source": [
    "### Parsing Dates"
   ]
  },
  {
   "cell_type": "code",
   "execution_count": 36,
   "metadata": {},
   "outputs": [
    {
     "name": "stdout",
     "output_type": "stream",
     "text": [
      "0     3/2/07\n",
      "1    3/22/07\n",
      "2     4/6/07\n",
      "3    4/14/07\n",
      "4    4/15/07\n",
      "Name: date, dtype: object\n"
     ]
    }
   ],
   "source": [
    "print(df['date'].head())\n",
    "df.dropna(subset = ['date'], inplace=True)\n",
    "df.reset_index(drop=True, inplace=True)"
   ]
  },
  {
   "cell_type": "code",
   "execution_count": 37,
   "metadata": {},
   "outputs": [],
   "source": [
    "# Create a new column, date_parsed, with the parsed dates\n",
    "df['date_parsed'] = pd.to_datetime(df['date'], format=\"%m/%d/%y\")"
   ]
  },
  {
   "cell_type": "code",
   "execution_count": 38,
   "metadata": {},
   "outputs": [
    {
     "name": "stdout",
     "output_type": "stream",
     "text": [
      "0   2007-03-02\n",
      "1   2007-03-22\n",
      "2   2007-04-06\n",
      "3   2007-04-14\n",
      "4   2007-04-15\n",
      "Name: date_parsed, dtype: datetime64[ns]\n"
     ]
    }
   ],
   "source": [
    "print(df['date_parsed'].head())"
   ]
  },
  {
   "cell_type": "code",
   "execution_count": 39,
   "metadata": {},
   "outputs": [],
   "source": [
    "# Add year and month colums\n",
    "df['year'] = pd.DatetimeIndex(df['date']).year\n",
    "df['month'] = pd.DatetimeIndex(df['date']).month"
   ]
  },
  {
   "cell_type": "code",
   "execution_count": 40,
   "metadata": {},
   "outputs": [
    {
     "name": "stderr",
     "output_type": "stream",
     "text": [
      "<ipython-input-40-f37524211a53>:5: SettingWithCopyWarning: \n",
      "A value is trying to be set on a copy of a slice from a DataFrame\n",
      "\n",
      "See the caveats in the documentation: https://pandas.pydata.org/pandas-docs/stable/user_guide/indexing.html#returning-a-view-versus-a-copy\n",
      "C:\\Users\\seren\\AppData\\Roaming\\Python\\Python38\\site-packages\\pandas\\core\\indexing.py:670: SettingWithCopyWarning: \n",
      "A value is trying to be set on a copy of a slice from a DataFrame\n",
      "\n",
      "See the caveats in the documentation: https://pandas.pydata.org/pandas-docs/stable/user_guide/indexing.html#returning-a-view-versus-a-copy\n"
     ]
    }
   ],
   "source": [
    "# Add abbreviated months\n",
    "myMonths = [\"January\", \"February\", \"March\", \"April\", \"May\", \"June\", \"July\", \"August\", \"September\", \"October\", \"November\", \"December\"]\n",
    "df['MonthAbb'] = df['month']\n",
    "for i in range(len(df['month'])):\n",
    "    df['MonthAbb'][i] = myMonths[int(df['month'][i]-1)]"
   ]
  },
  {
   "cell_type": "code",
   "execution_count": 42,
   "metadata": {},
   "outputs": [
    {
     "data": {
      "text/plain": [
       "0    3\n",
       "1    3\n",
       "2    4\n",
       "3    4\n",
       "4    4\n",
       "Name: month_landslides, dtype: int64"
      ]
     },
     "execution_count": 42,
     "metadata": {},
     "output_type": "execute_result"
    }
   ],
   "source": [
    "df['month_landslides'] = df['date_parsed'].dt.month\n",
    "df.month_landslides.head()"
   ]
  },
  {
   "cell_type": "code",
   "execution_count": 43,
   "metadata": {},
   "outputs": [
    {
     "data": {
      "text/plain": [
       "0     2\n",
       "1    22\n",
       "2     6\n",
       "3    14\n",
       "4    15\n",
       "Name: date_parsed, dtype: int64"
      ]
     },
     "execution_count": 43,
     "metadata": {},
     "output_type": "execute_result"
    }
   ],
   "source": [
    "date_landslides = df['date_parsed'].dt.day\n",
    "date_landslides.head()"
   ]
  },
  {
   "cell_type": "code",
   "execution_count": 44,
   "metadata": {},
   "outputs": [
    {
     "data": {
      "text/plain": [
       "0    2007\n",
       "1    2007\n",
       "2    2007\n",
       "3    2007\n",
       "4    2007\n",
       "Name: date_parsed, dtype: int64"
      ]
     },
     "execution_count": 44,
     "metadata": {},
     "output_type": "execute_result"
    }
   ],
   "source": [
    "df[\"year\"]=year_landslides = df['date_parsed'].dt.year\n",
    "year_landslides = df['date_parsed'].dt.year\n",
    "year_landslides.head()"
   ]
  },
  {
   "cell_type": "code",
   "execution_count": 45,
   "metadata": {},
   "outputs": [
    {
     "data": {
      "text/html": [
       "<div>\n",
       "<style scoped>\n",
       "    .dataframe tbody tr th:only-of-type {\n",
       "        vertical-align: middle;\n",
       "    }\n",
       "\n",
       "    .dataframe tbody tr th {\n",
       "        vertical-align: top;\n",
       "    }\n",
       "\n",
       "    .dataframe thead th {\n",
       "        text-align: right;\n",
       "    }\n",
       "</style>\n",
       "<table border=\"1\" class=\"dataframe\">\n",
       "  <thead>\n",
       "    <tr style=\"text-align: right;\">\n",
       "      <th></th>\n",
       "      <th>id</th>\n",
       "      <th>date</th>\n",
       "      <th>time</th>\n",
       "      <th>country_name</th>\n",
       "      <th>country_code</th>\n",
       "      <th>state/province</th>\n",
       "      <th>population</th>\n",
       "      <th>city/town</th>\n",
       "      <th>distance</th>\n",
       "      <th>location_description</th>\n",
       "      <th>...</th>\n",
       "      <th>storm_name</th>\n",
       "      <th>injuries</th>\n",
       "      <th>fatalities</th>\n",
       "      <th>source_name</th>\n",
       "      <th>source_link</th>\n",
       "      <th>date_parsed</th>\n",
       "      <th>year</th>\n",
       "      <th>month</th>\n",
       "      <th>MonthAbb</th>\n",
       "      <th>month_landslides</th>\n",
       "    </tr>\n",
       "  </thead>\n",
       "  <tbody>\n",
       "    <tr>\n",
       "      <th>0</th>\n",
       "      <td>34</td>\n",
       "      <td>3/2/07</td>\n",
       "      <td>Night</td>\n",
       "      <td>United States</td>\n",
       "      <td>US</td>\n",
       "      <td>Virginia</td>\n",
       "      <td>16000</td>\n",
       "      <td>Cherry Hill</td>\n",
       "      <td>3.40765</td>\n",
       "      <td>Unknown</td>\n",
       "      <td>...</td>\n",
       "      <td>NaN</td>\n",
       "      <td>NaN</td>\n",
       "      <td>NaN</td>\n",
       "      <td>NBC 4 news</td>\n",
       "      <td>http://www.nbc4.com/news/11186871/detail.html</td>\n",
       "      <td>2007-03-02</td>\n",
       "      <td>2007</td>\n",
       "      <td>3</td>\n",
       "      <td>March</td>\n",
       "      <td>3</td>\n",
       "    </tr>\n",
       "    <tr>\n",
       "      <th>1</th>\n",
       "      <td>42</td>\n",
       "      <td>3/22/07</td>\n",
       "      <td>Unknown</td>\n",
       "      <td>United States</td>\n",
       "      <td>US</td>\n",
       "      <td>Ohio</td>\n",
       "      <td>17288</td>\n",
       "      <td>New Philadelphia</td>\n",
       "      <td>3.33522</td>\n",
       "      <td>Unknown</td>\n",
       "      <td>...</td>\n",
       "      <td>NaN</td>\n",
       "      <td>NaN</td>\n",
       "      <td>NaN</td>\n",
       "      <td>Canton Rep.com</td>\n",
       "      <td>http://www.cantonrep.com/index.php?ID=345054&amp;C...</td>\n",
       "      <td>2007-03-22</td>\n",
       "      <td>2007</td>\n",
       "      <td>3</td>\n",
       "      <td>March</td>\n",
       "      <td>3</td>\n",
       "    </tr>\n",
       "    <tr>\n",
       "      <th>2</th>\n",
       "      <td>56</td>\n",
       "      <td>4/6/07</td>\n",
       "      <td>Unknown</td>\n",
       "      <td>United States</td>\n",
       "      <td>US</td>\n",
       "      <td>Pennsylvania</td>\n",
       "      <td>15930</td>\n",
       "      <td>Wilkinsburg</td>\n",
       "      <td>2.91977</td>\n",
       "      <td>Urban area</td>\n",
       "      <td>...</td>\n",
       "      <td>NaN</td>\n",
       "      <td>NaN</td>\n",
       "      <td>NaN</td>\n",
       "      <td>The Pittsburgh Channel.com</td>\n",
       "      <td>https://web.archive.org/web/20080423132842/htt...</td>\n",
       "      <td>2007-04-06</td>\n",
       "      <td>2007</td>\n",
       "      <td>4</td>\n",
       "      <td>April</td>\n",
       "      <td>4</td>\n",
       "    </tr>\n",
       "    <tr>\n",
       "      <th>3</th>\n",
       "      <td>59</td>\n",
       "      <td>4/14/07</td>\n",
       "      <td>Unknown</td>\n",
       "      <td>Canada</td>\n",
       "      <td>CA</td>\n",
       "      <td>Quebec</td>\n",
       "      <td>42786</td>\n",
       "      <td>Châteauguay</td>\n",
       "      <td>2.98682</td>\n",
       "      <td>Above river</td>\n",
       "      <td>...</td>\n",
       "      <td>NaN</td>\n",
       "      <td>NaN</td>\n",
       "      <td>NaN</td>\n",
       "      <td>Le Soleil</td>\n",
       "      <td>http://www.hebdos.net/lsc/edition162007/articl...</td>\n",
       "      <td>2007-04-14</td>\n",
       "      <td>2007</td>\n",
       "      <td>4</td>\n",
       "      <td>April</td>\n",
       "      <td>4</td>\n",
       "    </tr>\n",
       "    <tr>\n",
       "      <th>4</th>\n",
       "      <td>61</td>\n",
       "      <td>4/15/07</td>\n",
       "      <td>Unknown</td>\n",
       "      <td>United States</td>\n",
       "      <td>US</td>\n",
       "      <td>Kentucky</td>\n",
       "      <td>6903</td>\n",
       "      <td>Pikeville</td>\n",
       "      <td>5.66542</td>\n",
       "      <td>Below road</td>\n",
       "      <td>...</td>\n",
       "      <td>NaN</td>\n",
       "      <td>NaN</td>\n",
       "      <td>0.0</td>\n",
       "      <td>Matthew Crawford (KGS)</td>\n",
       "      <td>Unknown</td>\n",
       "      <td>2007-04-15</td>\n",
       "      <td>2007</td>\n",
       "      <td>4</td>\n",
       "      <td>April</td>\n",
       "      <td>4</td>\n",
       "    </tr>\n",
       "    <tr>\n",
       "      <th>...</th>\n",
       "      <td>...</td>\n",
       "      <td>...</td>\n",
       "      <td>...</td>\n",
       "      <td>...</td>\n",
       "      <td>...</td>\n",
       "      <td>...</td>\n",
       "      <td>...</td>\n",
       "      <td>...</td>\n",
       "      <td>...</td>\n",
       "      <td>...</td>\n",
       "      <td>...</td>\n",
       "      <td>...</td>\n",
       "      <td>...</td>\n",
       "      <td>...</td>\n",
       "      <td>...</td>\n",
       "      <td>...</td>\n",
       "      <td>...</td>\n",
       "      <td>...</td>\n",
       "      <td>...</td>\n",
       "      <td>...</td>\n",
       "      <td>...</td>\n",
       "    </tr>\n",
       "    <tr>\n",
       "      <th>1672</th>\n",
       "      <td>7520</td>\n",
       "      <td>2/24/16</td>\n",
       "      <td>Night</td>\n",
       "      <td>United States</td>\n",
       "      <td>US</td>\n",
       "      <td>Pennsylvania</td>\n",
       "      <td>5951</td>\n",
       "      <td>Crafton</td>\n",
       "      <td>1.45894</td>\n",
       "      <td>Above road</td>\n",
       "      <td>...</td>\n",
       "      <td>NaN</td>\n",
       "      <td>0.0</td>\n",
       "      <td>0.0</td>\n",
       "      <td>WPXI</td>\n",
       "      <td>http://www.wpxi.com/news/news/local/rockslide-...</td>\n",
       "      <td>2016-02-24</td>\n",
       "      <td>2016</td>\n",
       "      <td>2</td>\n",
       "      <td>February</td>\n",
       "      <td>2</td>\n",
       "    </tr>\n",
       "    <tr>\n",
       "      <th>1673</th>\n",
       "      <td>7521</td>\n",
       "      <td>2/15/16</td>\n",
       "      <td>Morning</td>\n",
       "      <td>United States</td>\n",
       "      <td>US</td>\n",
       "      <td>Colorado</td>\n",
       "      <td>9614</td>\n",
       "      <td>Glenwood Springs</td>\n",
       "      <td>13.85194</td>\n",
       "      <td>Above road</td>\n",
       "      <td>...</td>\n",
       "      <td>NaN</td>\n",
       "      <td>0.0</td>\n",
       "      <td>0.0</td>\n",
       "      <td>CBS</td>\n",
       "      <td>http://denver.cbslocal.com/2016/02/16/i-70-clo...</td>\n",
       "      <td>2016-02-15</td>\n",
       "      <td>2016</td>\n",
       "      <td>2</td>\n",
       "      <td>February</td>\n",
       "      <td>2</td>\n",
       "    </tr>\n",
       "    <tr>\n",
       "      <th>1674</th>\n",
       "      <td>7522</td>\n",
       "      <td>2/24/16</td>\n",
       "      <td>Unknown</td>\n",
       "      <td>United States</td>\n",
       "      <td>US</td>\n",
       "      <td>Virginia</td>\n",
       "      <td>1128</td>\n",
       "      <td>Pembroke</td>\n",
       "      <td>3.21144</td>\n",
       "      <td>Above road</td>\n",
       "      <td>...</td>\n",
       "      <td>NaN</td>\n",
       "      <td>0.0</td>\n",
       "      <td>0.0</td>\n",
       "      <td>NEWSSHINE</td>\n",
       "      <td>http://www.newsshine.com/us-local-news/virgini...</td>\n",
       "      <td>2016-02-24</td>\n",
       "      <td>2016</td>\n",
       "      <td>2</td>\n",
       "      <td>February</td>\n",
       "      <td>2</td>\n",
       "    </tr>\n",
       "    <tr>\n",
       "      <th>1677</th>\n",
       "      <td>7527</td>\n",
       "      <td>1/28/16</td>\n",
       "      <td>9:45</td>\n",
       "      <td>United States</td>\n",
       "      <td>US</td>\n",
       "      <td>North Carolina</td>\n",
       "      <td>1241</td>\n",
       "      <td>Blowing Rock</td>\n",
       "      <td>4.20387</td>\n",
       "      <td>Above road</td>\n",
       "      <td>...</td>\n",
       "      <td>NaN</td>\n",
       "      <td>0.0</td>\n",
       "      <td>0.0</td>\n",
       "      <td>WSOC</td>\n",
       "      <td>http://www.wsoctv.com/news/rock-slide-shuts-do...</td>\n",
       "      <td>2016-01-28</td>\n",
       "      <td>2016</td>\n",
       "      <td>1</td>\n",
       "      <td>January</td>\n",
       "      <td>1</td>\n",
       "    </tr>\n",
       "    <tr>\n",
       "      <th>1689</th>\n",
       "      <td>7541</td>\n",
       "      <td>3/2/16</td>\n",
       "      <td>8:00</td>\n",
       "      <td>United States</td>\n",
       "      <td>US</td>\n",
       "      <td>Vermont</td>\n",
       "      <td>2066</td>\n",
       "      <td>Windsor</td>\n",
       "      <td>1.78429</td>\n",
       "      <td>Above road</td>\n",
       "      <td>...</td>\n",
       "      <td>NaN</td>\n",
       "      <td>0.0</td>\n",
       "      <td>0.0</td>\n",
       "      <td>Valley News</td>\n",
       "      <td>http://www.vnews.com/home/21353539-95/loose-ledge</td>\n",
       "      <td>2016-03-02</td>\n",
       "      <td>2016</td>\n",
       "      <td>3</td>\n",
       "      <td>March</td>\n",
       "      <td>3</td>\n",
       "    </tr>\n",
       "  </tbody>\n",
       "</table>\n",
       "<p>491 rows × 27 columns</p>\n",
       "</div>"
      ],
      "text/plain": [
       "        id     date     time   country_name country_code  state/province  \\\n",
       "0       34   3/2/07    Night  United States           US        Virginia   \n",
       "1       42  3/22/07  Unknown  United States           US            Ohio   \n",
       "2       56   4/6/07  Unknown  United States           US    Pennsylvania   \n",
       "3       59  4/14/07  Unknown         Canada           CA          Quebec   \n",
       "4       61  4/15/07  Unknown  United States           US        Kentucky   \n",
       "...    ...      ...      ...            ...          ...             ...   \n",
       "1672  7520  2/24/16    Night  United States           US    Pennsylvania   \n",
       "1673  7521  2/15/16  Morning  United States           US        Colorado   \n",
       "1674  7522  2/24/16  Unknown  United States           US        Virginia   \n",
       "1677  7527  1/28/16     9:45  United States           US  North Carolina   \n",
       "1689  7541   3/2/16     8:00  United States           US         Vermont   \n",
       "\n",
       "      population         city/town  distance location_description  ...  \\\n",
       "0          16000       Cherry Hill   3.40765              Unknown  ...   \n",
       "1          17288  New Philadelphia   3.33522              Unknown  ...   \n",
       "2          15930       Wilkinsburg   2.91977           Urban area  ...   \n",
       "3          42786       Châteauguay   2.98682          Above river  ...   \n",
       "4           6903         Pikeville   5.66542           Below road  ...   \n",
       "...          ...               ...       ...                  ...  ...   \n",
       "1672        5951           Crafton   1.45894           Above road  ...   \n",
       "1673        9614  Glenwood Springs  13.85194           Above road  ...   \n",
       "1674        1128          Pembroke   3.21144           Above road  ...   \n",
       "1677        1241      Blowing Rock   4.20387           Above road  ...   \n",
       "1689        2066           Windsor   1.78429           Above road  ...   \n",
       "\n",
       "      storm_name  injuries fatalities                 source_name  \\\n",
       "0            NaN       NaN        NaN                  NBC 4 news   \n",
       "1            NaN       NaN        NaN              Canton Rep.com   \n",
       "2            NaN       NaN        NaN  The Pittsburgh Channel.com   \n",
       "3            NaN       NaN        NaN                   Le Soleil   \n",
       "4            NaN       NaN        0.0      Matthew Crawford (KGS)   \n",
       "...          ...       ...        ...                         ...   \n",
       "1672         NaN       0.0        0.0                        WPXI   \n",
       "1673         NaN       0.0        0.0                         CBS   \n",
       "1674         NaN       0.0        0.0                   NEWSSHINE   \n",
       "1677         NaN       0.0        0.0                        WSOC   \n",
       "1689         NaN       0.0        0.0                 Valley News   \n",
       "\n",
       "                                            source_link date_parsed  year  \\\n",
       "0         http://www.nbc4.com/news/11186871/detail.html  2007-03-02  2007   \n",
       "1     http://www.cantonrep.com/index.php?ID=345054&C...  2007-03-22  2007   \n",
       "2     https://web.archive.org/web/20080423132842/htt...  2007-04-06  2007   \n",
       "3     http://www.hebdos.net/lsc/edition162007/articl...  2007-04-14  2007   \n",
       "4                                               Unknown  2007-04-15  2007   \n",
       "...                                                 ...         ...   ...   \n",
       "1672  http://www.wpxi.com/news/news/local/rockslide-...  2016-02-24  2016   \n",
       "1673  http://denver.cbslocal.com/2016/02/16/i-70-clo...  2016-02-15  2016   \n",
       "1674  http://www.newsshine.com/us-local-news/virgini...  2016-02-24  2016   \n",
       "1677  http://www.wsoctv.com/news/rock-slide-shuts-do...  2016-01-28  2016   \n",
       "1689  http://www.vnews.com/home/21353539-95/loose-ledge  2016-03-02  2016   \n",
       "\n",
       "     month  MonthAbb  month_landslides  \n",
       "0        3     March                 3  \n",
       "1        3     March                 3  \n",
       "2        4     April                 4  \n",
       "3        4     April                 4  \n",
       "4        4     April                 4  \n",
       "...    ...       ...               ...  \n",
       "1672     2  February                 2  \n",
       "1673     2  February                 2  \n",
       "1674     2  February                 2  \n",
       "1677     1   January                 1  \n",
       "1689     3     March                 3  \n",
       "\n",
       "[491 rows x 27 columns]"
      ]
     },
     "execution_count": 45,
     "metadata": {},
     "output_type": "execute_result"
    }
   ],
   "source": [
    "grouped_df = df.groupby([\"month_landslides\", \"year\"])\n",
    "grouped_df.head()"
   ]
  },
  {
   "cell_type": "code",
   "execution_count": 46,
   "metadata": {},
   "outputs": [
    {
     "data": {
      "text/plain": [
       "month_landslides  year\n",
       "1                 2008     5\n",
       "                  2009     2\n",
       "                  2010    16\n",
       "                  2011     8\n",
       "                  2012     4\n",
       "                  2013    15\n",
       "                  2014     9\n",
       "                  2015     4\n",
       "                  2016     2\n",
       "2                 2008     3\n",
       "                  2009     1\n",
       "                  2010    14\n",
       "                  2011     6\n",
       "                  2012     1\n",
       "                  2013     1\n",
       "Name: id, dtype: int64"
      ]
     },
     "execution_count": 46,
     "metadata": {},
     "output_type": "execute_result"
    }
   ],
   "source": [
    "count=grouped_df.id.nunique()\n",
    "count.head(15)"
   ]
  },
  {
   "cell_type": "markdown",
   "metadata": {},
   "source": [
    "# Data Visualization"
   ]
  },
  {
   "cell_type": "markdown",
   "metadata": {},
   "source": [
    "### What size of landslides are most likely to occur"
   ]
  },
  {
   "cell_type": "code",
   "execution_count": 47,
   "metadata": {
    "scrolled": true
   },
   "outputs": [
    {
     "data": {
      "text/plain": [
       "Text(0.5, 1.0, 'Lanslide Size Occurence')"
      ]
     },
     "execution_count": 47,
     "metadata": {},
     "output_type": "execute_result"
    },
    {
     "data": {
      "image/png": "[encoded data removed]",
      "text/plain": [
       "<Figure size 432x288 with 1 Axes>"
      ]
     },
     "metadata": {},
     "output_type": "display_data"
    }
   ],
   "source": [
    "df.landslide_size.value_counts().plot(kind='pie')\n",
    "plt.title('Lanslide Size Occurence', fontsize=14)"
   ]
  },
  {
   "cell_type": "markdown",
   "metadata": {},
   "source": [
    "#### Inference:\n",
    "From the above chart we can infer that medium sized landslides are most likely to occur and very large landslides are least likely to occur."
   ]
  },
  {
   "cell_type": "markdown",
   "metadata": {},
   "source": [
    "### Occurrence of different types of triggers of landslides "
   ]
  },
  {
   "cell_type": "code",
   "execution_count": 48,
   "metadata": {},
   "outputs": [
    {
     "data": {
      "text/plain": [
       "Text(0.5, 1.0, 'Occurrence of different types of triggers')"
      ]
     },
     "execution_count": 48,
     "metadata": {},
     "output_type": "execute_result"
    },
    {
     "data": {
      "image/png": "[encoded data removed]",
      "text/plain": [
       "<Figure size 432x288 with 1 Axes>"
      ]
     },
     "metadata": {
      "needs_background": "light"
     },
     "output_type": "display_data"
    }
   ],
   "source": [
    "df.trigger.value_counts().plot(kind='bar')\n",
    "plt.title('Occurrence of different types of triggers', fontsize=14)"
   ]
  },
  {
   "cell_type": "markdown",
   "metadata": {},
   "source": [
    "#### Infrence:\n",
    "From the above plot we can infer that landslides are most likely to be caused by downpour followed by rain, and it is least likely to be caused by a volcano and embarkment collapse."
   ]
  },
  {
   "cell_type": "markdown",
   "metadata": {},
   "source": [
    "### Number of fatalities and injuries that occurred vs the distance travelled by the landslide"
   ]
  },
  {
   "cell_type": "code",
   "execution_count": 49,
   "metadata": {},
   "outputs": [
    {
     "data": {
      "text/plain": [
       "Text(0.5, 1.0, 'Fatalities vs Distance travelled by landslide')"
      ]
     },
     "execution_count": 49,
     "metadata": {},
     "output_type": "execute_result"
    },
    {
     "data": {
      "image/png": "[encoded data removed]",
      "text/plain": [
       "<Figure size 432x288 with 1 Axes>"
      ]
     },
     "metadata": {
      "needs_background": "light"
     },
     "output_type": "display_data"
    }
   ],
   "source": [
    "plt.title\n",
    "plt.scatter(x = df['distance'], y = df['fatalities'])\n",
    "plt.title('Fatalities vs Distance travelled by landslide', fontsize=14)"
   ]
  },
  {
   "cell_type": "code",
   "execution_count": 50,
   "metadata": {},
   "outputs": [
    {
     "data": {
      "text/plain": [
       "Text(0.5, 1.0, 'Injuries vs Distance travelled by the landslide')"
      ]
     },
     "execution_count": 50,
     "metadata": {},
     "output_type": "execute_result"
    },
    {
     "data": {
      "image/png": "[encoded data removed]",
      "text/plain": [
       "<Figure size 432x288 with 1 Axes>"
      ]
     },
     "metadata": {
      "needs_background": "light"
     },
     "output_type": "display_data"
    }
   ],
   "source": [
    "plt.scatter(x = df['distance'], y = df['injuries'])\n",
    "plt.title('Injuries vs Distance travelled by the landslide', fontsize=14)"
   ]
  },
  {
   "cell_type": "markdown",
   "metadata": {},
   "source": [
    "#### Inference:\n",
    "From the above plots we can infer that landslides that happen over a shorter distance are more fatal and injurious than the ones that have been recorded over longer distances."
   ]
  },
  {
   "cell_type": "markdown",
   "metadata": {},
   "source": [
    "### Distribution of landslide per type and country"
   ]
  },
  {
   "cell_type": "code",
   "execution_count": 51,
   "metadata": {},
   "outputs": [
    {
     "data": {
      "text/plain": [
       "<AxesSubplot:title={'center':'Distribution of landslides per type and country'}, xlabel='country_name'>"
      ]
     },
     "execution_count": 51,
     "metadata": {},
     "output_type": "execute_result"
    },
    {
     "data": {
      "image/png": "[encoded data removed]",
      "text/plain": [
       "<Figure size 432x288 with 1 Axes>"
      ]
     },
     "metadata": {
      "needs_background": "light"
     },
     "output_type": "display_data"
    }
   ],
   "source": [
    "df.groupby(['country_name', 'landslide_type']).size().unstack().plot(kind='bar', stacked=True, title = 'Distribution of landslides per type and country')"
   ]
  },
  {
   "cell_type": "markdown",
   "metadata": {},
   "source": [
    "#### Inference:\n",
    "From the above plot we can infer:\n",
    "* Landslides most commonly occur in the United States.\n",
    "* Landslides and mudslides are the types of landslides that are most likely to occur. \n"
   ]
  },
  {
   "cell_type": "markdown",
   "metadata": {},
   "source": [
    "### Distribution of landslide type"
   ]
  },
  {
   "cell_type": "code",
   "execution_count": 52,
   "metadata": {},
   "outputs": [
    {
     "data": {
      "text/plain": [
       "<AxesSubplot:title={'center':'Distribution of landslide type'}>"
      ]
     },
     "execution_count": 52,
     "metadata": {},
     "output_type": "execute_result"
    },
    {
     "data": {
      "image/png": "[encoded data removed]",
      "text/plain": [
       "<Figure size 432x288 with 1 Axes>"
      ]
     },
     "metadata": {
      "needs_background": "light"
     },
     "output_type": "display_data"
    }
   ],
   "source": [
    "df.landslide_type.value_counts().plot(kind='bar', title = 'Distribution of landslide type')"
   ]
  },
  {
   "cell_type": "markdown",
   "metadata": {},
   "source": [
    "#### Inference:\n",
    "From the above plot we can infer that landslides are the most common type of landslide to occur followed by mudslides."
   ]
  },
  {
   "cell_type": "markdown",
   "metadata": {},
   "source": [
    "### Distribution of landslides per trigger per year"
   ]
  },
  {
   "cell_type": "code",
   "execution_count": 53,
   "metadata": {},
   "outputs": [
    {
     "data": {
      "text/plain": [
       "<AxesSubplot:title={'center':'Lanslide Trigger Trend'}, xlabel='year', ylabel='id'>"
      ]
     },
     "execution_count": 53,
     "metadata": {},
     "output_type": "execute_result"
    },
    {
     "data": {
      "image/png": "[encoded data removed]",
      "text/plain": [
       "<Figure size 720x576 with 1 Axes>"
      ]
     },
     "metadata": {
      "needs_background": "light"
     },
     "output_type": "display_data"
    }
   ],
   "source": [
    "df_sort =  df.sort_values(by=['year'])  # sort by year\n",
    "plt.figure(figsize=(10,8))\n",
    "plt.title('Lanslide Trigger Trend', fontsize=14)\n",
    "grouped = df_sort.groupby(['year', 'trigger']).count().reset_index()\n",
    "sns.lineplot(data = grouped, x = 'year', y = 'id', hue = 'trigger')"
   ]
  },
  {
   "cell_type": "markdown",
   "metadata": {},
   "source": [
    "#### Inference\n",
    "From the above plot we can infer that landslides are most commonly triggered by downpour followed by rain."
   ]
  },
  {
   "cell_type": "markdown",
   "metadata": {},
   "source": [
    "### To check if there is a seasonality of occurrence of landslides"
   ]
  },
  {
   "cell_type": "code",
   "execution_count": 54,
   "metadata": {},
   "outputs": [
    {
     "data": {
      "image/png": "[encoded data removed]",
      "text/plain": [
       "<Figure size 432x288 with 2 Axes>"
      ]
     },
     "metadata": {
      "needs_background": "light"
     },
     "output_type": "display_data"
    }
   ],
   "source": [
    "jb_count = count.loc[:,:].reset_index().pivot(index='month_landslides', columns='year', values='id')\n",
    "sns.heatmap(jb_count)\n",
    "plt.title('Seasonality of occurrence of landslides', fontsize=14)\n",
    "plt.show()"
   ]
  },
  {
   "cell_type": "markdown",
   "metadata": {},
   "source": [
    "#### Inference\n",
    "There is no clear seasonality that can be visualized in the heatmap. However, in the boxplots there is a seasonality where in the beginning and end of the year there are less landslides than during the mid of the year."
   ]
  },
  {
   "cell_type": "code",
   "execution_count": null,
   "metadata": {},
   "outputs": [],
   "source": [
    "# To analyze the region of occurrences of various types of landslides and the number of fatalities they caused\n"
   ]
  }
 ],
 "metadata": {
  "kernelspec": {
   "display_name": "Python 3",
   "language": "python",
   "name": "python3"
  },
  "language_info": {
   "codemirror_mode": {
    "name": "ipython",
    "version": 3
   },
   "file_extension": ".py",
   "mimetype": "text/x-python",
   "name": "python",
   "nbconvert_exporter": "python",
   "pygments_lexer": "ipython3",
   "version": "3.8.3"
  }
 },
 "nbformat": 4,
 "nbformat_minor": 2
}
